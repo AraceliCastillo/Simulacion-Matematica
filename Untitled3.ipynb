{
 "cells": [
  {
   "cell_type": "code",
   "execution_count": 1,
   "metadata": {
    "collapsed": true
   },
   "outputs": [],
   "source": [
    "%matplotlib inline\n",
    "\n",
    "import matplotlib.pylab as plt\n",
    "import numpy as np\n",
    "from sympy import *\n",
    "import pandas as pd\n",
    "from scipy import stats"
   ]
  },
  {
   "cell_type": "code",
   "execution_count": 14,
   "metadata": {},
   "outputs": [
    {
     "name": "stdout",
     "output_type": "stream",
     "text": [
      "Monto Inicial: $10000Pesos.\n",
      "Pedí Prestado:$ 1000.0pesos.\n",
      "Invertí: $11000.0pesos.\n",
      "Terminé con: $12320.0pesos.\n",
      "Pago Préstamo: $1050.0pesos.\n",
      "Monto Final: $11270.0pesos.\n",
      "Rendimiento: 12.7%\n"
     ]
    }
   ],
   "source": [
    "MontoInicial=10000\n",
    "TasaPrestamo=.1\n",
    "Prestamo=MontoInicial*TasaPrestamo\n",
    "TasaInteres= .05\n",
    "\n",
    "MontoDisponible=MontoInicial+Prestamo\n",
    "Rendimiento= .12\n",
    "\n",
    "SubTotal=Rendimiento*MontoDisponible +MontoDisponible\n",
    "PagoPrestamo =Prestamo + TasaInteres *Prestamo\n",
    "\n",
    "MontoFinal=SubTotal-PagoPrestamo\n",
    "\n",
    "Rendimiento =(MontoFinal-MontoInicial)/MontoInicial\n",
    "\n",
    "print(\"Monto Inicial: $\"+str(MontoInicial)+ \"Pesos.\")\n",
    "print(\"Pedí Prestado:$ \"+str(Prestamo)+ \"pesos.\")\n",
    "print(\"Invertí: $\"+str(MontoDisponible)+\"pesos.\")\n",
    "print(\"Terminé con: $\"+str(SubTotal)+\"pesos.\")\n",
    "print(\"Pago Préstamo: $\"+str(PagoPrestamo)+\"pesos.\")\n",
    "print(\"Monto Final: $\"+str(MontoFinal)+\"pesos.\")\n",
    "print(\"Rendimiento: \"+str(Rendimiento*100)+\"%\")\n",
    "\n"
   ]
  },
  {
   "cell_type": "code",
   "execution_count": 16,
   "metadata": {},
   "outputs": [
    {
     "name": "stdout",
     "output_type": "stream",
     "text": [
      "Monto Inicial: $10000Pesos.\n",
      "Pedí Prestado:$ 3000.0pesos.\n",
      "Invertí: $13000.0pesos.\n",
      "Terminé con: $13702.182351634081pesos.\n",
      "Pago Préstamo: $3150.0pesos.\n",
      "Monto Final: $10552.182351634081pesos.\n",
      "Rendimiento: 5.52182351634081%\n"
     ]
    }
   ],
   "source": [
    "MontoInicial=10000\n",
    "TasaPrestamo=.3\n",
    "Prestamo=MontoInicial*TasaPrestamo\n",
    "TasaInteres= .05\n",
    "\n",
    "MontoDisponible=MontoInicial+Prestamo\n",
    "Rendimiento= np.random.normal(.12,.20)\n",
    "\n",
    "SubTotal=Rendimiento*MontoDisponible +MontoDisponible\n",
    "PagoPrestamo =Prestamo + TasaInteres *Prestamo\n",
    "\n",
    "MontoFinal=SubTotal-PagoPrestamo\n",
    "\n",
    "Rendimiento =(MontoFinal-MontoInicial)/MontoInicial\n",
    "\n",
    "print(\"Monto Inicial: $\"+str(MontoInicial)+ \"Pesos.\")\n",
    "print(\"Pedí Prestado:$ \"+str(Prestamo)+ \"pesos.\")\n",
    "print(\"Invertí: $\"+str(MontoDisponible)+\"pesos.\")\n",
    "print(\"Terminé con: $\"+str(SubTotal)+\"pesos.\")\n",
    "print(\"Pago Préstamo: $\"+str(PagoPrestamo)+\"pesos.\")\n",
    "print(\"Monto Final: $\"+str(MontoFinal)+\"pesos.\")\n",
    "print(\"Rendimiento: \"+str(Rendimiento*100)+\"%\")\n"
   ]
  },
  {
   "cell_type": "code",
   "execution_count": null,
   "metadata": {
    "collapsed": true
   },
   "outputs": [],
   "source": [
    "plt.hist(np.random.normal(.12,.20, 10000),normed=True, bins=100)\n"
   ]
  },
  {
   "cell_type": "code",
   "execution_count": 24,
   "metadata": {},
   "outputs": [],
   "source": [
    "def SP500():\n",
    "    \n",
    "    MontoInicial=10000\n",
    "    TasaPrestamo=.3\n",
    "    Prestamo=MontoInicial*TasaPrestamo\n",
    "    TasaInteres= .05\n",
    "\n",
    "    MontoDisponible=MontoInicial+Prestamo\n",
    "    Rendimiento= np.random.normal(.12,.20)\n",
    "\n",
    "    SubTotal=Rendimiento*MontoDisponible +MontoDisponible\n",
    "    PagoPrestamo =Prestamo + TasaInteres *Prestamo\n",
    "\n",
    "    MontoFinal=SubTotal-PagoPrestamo\n",
    "\n",
    "    Rendimiento =(MontoFinal-MontoInicial)/MontoInicial\n",
    "\n",
    "    return Rendimiento\n"
   ]
  },
  {
   "cell_type": "code",
   "execution_count": 28,
   "metadata": {},
   "outputs": [
    {
     "name": "stdout",
     "output_type": "stream",
     "text": [
      "Rendimiento Promedio: 13.9859769025%\n",
      "Rendimiento tiene una volatilidad: 25.9892773853%\n"
     ]
    }
   ],
   "source": [
    "N=100000\n",
    "Rendimientos=np.zeros(N)\n",
    "\n",
    "for i,j in enumerate (Rendimientos):\n",
    "    Rendimientos[i]=SP500()\n",
    "    \n",
    "print(\"Rendimiento Promedio: \"+str(np.mean(Rendimientos)*100)+\"%\")\n",
    "print(\"Rendimiento tiene una volatilidad: \"+str(np.std(Rendimientos)*100)+\"%\")"
   ]
  },
  {
   "cell_type": "code",
   "execution_count": 29,
   "metadata": {},
   "outputs": [
    {
     "data": {
      "image/png": "[encoded data removed]",
      "text/plain": [
       "<matplotlib.figure.Figure at 0x357f710>"
      ]
     },
     "metadata": {},
     "output_type": "display_data"
    }
   ],
   "source": [
    "plt.hist(Rendimientos, normed=True, bins=100);"
   ]
  },
  {
   "cell_type": "code",
   "execution_count": 30,
   "metadata": {},
   "outputs": [
    {
     "name": "stdout",
     "output_type": "stream",
     "text": [
      "Rendimiento Promedio: 14.0178402223%\n",
      "Rendimiento tiene una volatilidad: 25.9034043676%\n"
     ]
    },
    {
     "data": {
      "text/html": [
       "<div>\n",
       "<style>\n",
       "    .dataframe thead tr:only-child th {\n",
       "        text-align: right;\n",
       "    }\n",
       "\n",
       "    .dataframe thead th {\n",
       "        text-align: left;\n",
       "    }\n",
       "\n",
       "    .dataframe tbody tr th {\n",
       "        vertical-align: top;\n",
       "    }\n",
       "</style>\n",
       "<table border=\"1\" class=\"dataframe\">\n",
       "  <thead>\n",
       "    <tr style=\"text-align: right;\">\n",
       "      <th></th>\n",
       "      <th>0</th>\n",
       "      <th>1</th>\n",
       "    </tr>\n",
       "  </thead>\n",
       "  <tbody>\n",
       "    <tr>\n",
       "      <th>68%</th>\n",
       "      <td>-0.118856</td>\n",
       "      <td>0.399212</td>\n",
       "    </tr>\n",
       "    <tr>\n",
       "      <th>95%</th>\n",
       "      <td>-0.377890</td>\n",
       "      <td>0.658246</td>\n",
       "    </tr>\n",
       "    <tr>\n",
       "      <th>99%</th>\n",
       "      <td>-0.636924</td>\n",
       "      <td>0.917281</td>\n",
       "    </tr>\n",
       "  </tbody>\n",
       "</table>\n",
       "</div>"
      ],
      "text/plain": [
       "            0         1\n",
       "68% -0.118856  0.399212\n",
       "95% -0.377890  0.658246\n",
       "99% -0.636924  0.917281"
      ]
     },
     "execution_count": 30,
     "metadata": {},
     "output_type": "execute_result"
    },
    {
     "data": {
      "image/png": "[encoded data removed]",
      "text/plain": [
       "<matplotlib.figure.Figure at 0x356bf30>"
      ]
     },
     "metadata": {},
     "output_type": "display_data"
    }
   ],
   "source": [
    "N=100000\n",
    "Rendimientos=np.zeros(N)\n",
    "\n",
    "for i,j in enumerate (Rendimientos):\n",
    "    Rendimientos[i]=SP500()\n",
    "    \n",
    "print(\"Rendimiento Promedio: \"+str(np.mean(Rendimientos)*100)+\"%\")\n",
    "print(\"Rendimiento tiene una volatilidad: \"+str(np.std(Rendimientos)*100)+\"%\")\n",
    "\n",
    "plt.hist(Rendimientos, normed=True,bins=100)\n",
    "u=np.mean(Rendimientos)\n",
    "std=np.std(Rendimientos)\n",
    "df=pd.DataFrame([[u-std,u+std],[u-2*std,u+2*std],[u-3*std,u+3*std]])\n",
    "df.index=[\"68%\", \"95%\", \"99%\"]\n",
    "df"
   ]
  },
  {
   "cell_type": "code",
   "execution_count": null,
   "metadata": {
    "collapsed": true
   },
   "outputs": [],
   "source": []
  }
 ],
 "metadata": {
  "kernelspec": {
   "display_name": "Python 3",
   "language": "python",
   "name": "python3"
  },
  "language_info": {
   "codemirror_mode": {
    "name": "ipython",
    "version": 3
   },
   "file_extension": ".py",
   "mimetype": "text/x-python",
   "name": "python",
   "nbconvert_exporter": "python",
   "pygments_lexer": "ipython3",
   "version": "3.6.1"
  }
 },
 "nbformat": 4,
 "nbformat_minor": 2
}
