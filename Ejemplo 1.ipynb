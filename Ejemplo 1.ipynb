{
 "cells": [
  {
   "cell_type": "code",
   "execution_count": null,
   "metadata": {
    "collapsed": true
   },
   "outputs": [],
   "source": [
    "print(\"Trata de adivinar el número que está pensando la computadora, solo tienes 3 intentos.\")\n",
    "print(\"Solo usa números del 1 al 9\")\n",
    "import random as ran\n",
    "num=ran.randint(0,2)\n",
    "inten=1\n",
    "for i in range (1,4):\n",
    "    x=input(\"Intentalo: \")\n",
    "    y=int(x)\n",
    "    if num==y:\n",
    "        print(\"Felicidades, ¡Adivinaste!\")\n",
    "        break\n",
    "    inten+=1\n",
    "    if inten==4:\n",
    "        print(\"Has perdido, El número era: \", num)\n",
    "        "
   ]
  }
 ],
 "metadata": {
  "kernelspec": {
   "display_name": "Python 3",
   "language": "python",
   "name": "python3"
  },
  "language_info": {
   "codemirror_mode": {
    "name": "ipython",
    "version": 3
   },
   "file_extension": ".py",
   "mimetype": "text/x-python",
   "name": "python",
   "nbconvert_exporter": "python",
   "pygments_lexer": "ipython3",
   "version": "3.6.1"
  }
 },
 "nbformat": 4,
 "nbformat_minor": 2
}
